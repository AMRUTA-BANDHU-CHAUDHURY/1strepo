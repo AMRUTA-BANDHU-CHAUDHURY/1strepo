{
  "nbformat": 4,
  "nbformat_minor": 0,
  "metadata": {
    "kernelspec": {
      "name": "python3",
      "display_name": "Python 3"
    },
    "language_info": {
      "codemirror_mode": {
        "name": "ipython",
        "version": 3
      },
      "file_extension": ".py",
      "mimetype": "text/x-python",
      "name": "python",
      "nbconvert_exporter": "python",
      "pygments_lexer": "ipython3",
      "version": "3.6.8"
    },
    "colab": {
      "name": "Faceapp_with_cyclegan.ipynb",
      "provenance": [],
      "include_colab_link": true
    },
    "accelerator": "GPU"
  },
  "cells": [
    {
      "cell_type": "markdown",
      "metadata": {
        "id": "view-in-github",
        "colab_type": "text"
      },
      "source": [
        "<a href=\"https://colab.research.google.com/github/AMRUTA-BANDHU-CHAUDHURY/1strepo/blob/master/Faceapp_with_cyclegan.ipynb\" target=\"_parent\"><img src=\"https://colab.research.google.com/assets/colab-badge.svg\" alt=\"Open In Colab\"/></a>"
      ]
    },
    {
      "cell_type": "markdown",
      "metadata": {
        "id": "Z6JknUuqL6r_",
        "colab_type": "text"
      },
      "source": [
        "Download data"
      ]
    },
    {
      "cell_type": "code",
      "metadata": {
        "id": "rqB8gqq5L6sD",
        "colab_type": "code",
        "colab": {}
      },
      "source": [
        "import requests\n",
        "\n",
        "def download_file_from_google_drive(id, destination):\n",
        "    URL = \"https://docs.google.com/uc?export=download\"\n",
        "\n",
        "    session = requests.Session()\n",
        "\n",
        "    response = session.get(URL, params = { 'id' : id }, stream = True)\n",
        "    token = get_confirm_token(response)\n",
        "\n",
        "    if token:\n",
        "        params = { 'id' : id, 'confirm' : token }\n",
        "        response = session.get(URL, params = params, stream = True)\n",
        "\n",
        "    save_response_content(response, destination)    \n",
        "\n",
        "def get_confirm_token(response):\n",
        "    for key, value in response.cookies.items():\n",
        "        if key.startswith('download_warning'):\n",
        "            return value\n",
        "\n",
        "    return None\n",
        "\n",
        "def save_response_content(response, destination):\n",
        "    CHUNK_SIZE = 32768\n",
        "\n",
        "    with open(destination, \"wb\") as f:\n",
        "        for chunk in response.iter_content(CHUNK_SIZE):\n",
        "            if chunk: # filter out keep-alive new chunks\n",
        "                f.write(chunk)\n",
        "\n",
        "if __name__ == \"__main__\":\n",
        "    file_id = 'TAKE ID FROM SHAREABLE LINK'\n",
        "    destination = 'DESTINATION FILE ON YOUR DISK'\n",
        "    download_file_from_google_drive(\"0BxYys69jI14kYVM3aVhKS1VhRUk\", \"UTKFace.tar.gz\")"
      ],
      "execution_count": 0,
      "outputs": []
    },
    {
      "cell_type": "markdown",
      "metadata": {
        "id": "jG__fcyyL6sL",
        "colab_type": "text"
      },
      "source": [
        "Install dependancies"
      ]
    },
    {
      "cell_type": "code",
      "metadata": {
        "id": "zAMUuuzLL6sM",
        "colab_type": "code",
        "outputId": "e1c0d11f-b636-4ce3-de0a-8af91fee0e5a",
        "colab": {
          "base_uri": "https://localhost:8080/",
          "height": 624
        }
      },
      "source": [
        "!pip install opencv-python\n",
        "!apt update && apt install -y libsm6 libxext6 libxrender-dev"
      ],
      "execution_count": 0,
      "outputs": [
        {
          "output_type": "stream",
          "text": [
            "Requirement already satisfied: opencv-python in /usr/local/lib/python3.6/dist-packages (4.1.2.30)\n",
            "Requirement already satisfied: numpy>=1.11.3 in /usr/local/lib/python3.6/dist-packages (from opencv-python) (1.17.4)\n",
            "Get:1 https://cloud.r-project.org/bin/linux/ubuntu bionic-cran35/ InRelease [3,626 B]\n",
            "Ign:2 https://developer.download.nvidia.com/compute/cuda/repos/ubuntu1804/x86_64  InRelease\n",
            "Ign:3 https://developer.download.nvidia.com/compute/machine-learning/repos/ubuntu1804/x86_64  InRelease\n",
            "Hit:4 https://developer.download.nvidia.com/compute/cuda/repos/ubuntu1804/x86_64  Release\n",
            "Get:5 https://developer.download.nvidia.com/compute/machine-learning/repos/ubuntu1804/x86_64  Release [564 B]\n",
            "Get:6 https://developer.download.nvidia.com/compute/machine-learning/repos/ubuntu1804/x86_64  Release.gpg [833 B]\n",
            "Hit:7 http://archive.ubuntu.com/ubuntu bionic InRelease\n",
            "Hit:8 http://ppa.launchpad.net/graphics-drivers/ppa/ubuntu bionic InRelease\n",
            "Get:9 https://cloud.r-project.org/bin/linux/ubuntu bionic-cran35/ Packages [80.2 kB]\n",
            "Get:10 http://archive.ubuntu.com/ubuntu bionic-updates InRelease [88.7 kB]\n",
            "Get:11 http://security.ubuntu.com/ubuntu bionic-security InRelease [88.7 kB]\n",
            "Hit:13 http://ppa.launchpad.net/marutter/c2d4u3.5/ubuntu bionic InRelease\n",
            "Get:14 https://developer.download.nvidia.com/compute/machine-learning/repos/ubuntu1804/x86_64  Packages [30.4 kB]\n",
            "Get:15 http://archive.ubuntu.com/ubuntu bionic-backports InRelease [74.6 kB]\n",
            "Get:16 http://archive.ubuntu.com/ubuntu bionic-updates/universe amd64 Packages [1,322 kB]\n",
            "Get:17 http://security.ubuntu.com/ubuntu bionic-security/main amd64 Packages [761 kB]\n",
            "Get:18 http://archive.ubuntu.com/ubuntu bionic-updates/main amd64 Packages [1,057 kB]\n",
            "Fetched 3,508 kB in 2s (1,637 kB/s)\n",
            "Reading package lists... Done\n",
            "Building dependency tree       \n",
            "Reading state information... Done\n",
            "9 packages can be upgraded. Run 'apt list --upgradable' to see them.\n",
            "Reading package lists... Done\n",
            "Building dependency tree       \n",
            "Reading state information... Done\n",
            "libsm6 is already the newest version (2:1.2.2-1).\n",
            "libxext6 is already the newest version (2:1.3.3-1).\n",
            "libxrender-dev is already the newest version (1:0.9.10-1).\n",
            "libxrender-dev set to manually installed.\n",
            "The following package was automatically installed and is no longer required:\n",
            "  libnvidia-common-430\n",
            "Use 'apt autoremove' to remove it.\n",
            "0 upgraded, 0 newly installed, 0 to remove and 9 not upgraded.\n"
          ],
          "name": "stdout"
        }
      ]
    },
    {
      "cell_type": "code",
      "metadata": {
        "id": "2u_PltrlL6sR",
        "colab_type": "code",
        "outputId": "b61b3863-37c1-422e-cb38-900f4392d4b9",
        "colab": {
          "base_uri": "https://localhost:8080/",
          "height": 104
        }
      },
      "source": [
        "!pip install requests"
      ],
      "execution_count": 0,
      "outputs": [
        {
          "output_type": "stream",
          "text": [
            "Requirement already satisfied: requests in /usr/local/lib/python3.6/dist-packages (2.21.0)\n",
            "Requirement already satisfied: urllib3<1.25,>=1.21.1 in /usr/local/lib/python3.6/dist-packages (from requests) (1.24.3)\n",
            "Requirement already satisfied: chardet<3.1.0,>=3.0.2 in /usr/local/lib/python3.6/dist-packages (from requests) (3.0.4)\n",
            "Requirement already satisfied: idna<2.9,>=2.5 in /usr/local/lib/python3.6/dist-packages (from requests) (2.8)\n",
            "Requirement already satisfied: certifi>=2017.4.17 in /usr/local/lib/python3.6/dist-packages (from requests) (2019.11.28)\n"
          ],
          "name": "stdout"
        }
      ]
    },
    {
      "cell_type": "code",
      "metadata": {
        "id": "ggA3CBobL6sV",
        "colab_type": "code",
        "outputId": "b98bbef4-a2b5-4acc-a413-2a55ce8ab873",
        "colab": {
          "base_uri": "https://localhost:8080/",
          "height": 156
        }
      },
      "source": [
        "!pip install keras"
      ],
      "execution_count": 0,
      "outputs": [
        {
          "output_type": "stream",
          "text": [
            "Requirement already satisfied: keras in /usr/local/lib/python3.6/dist-packages (2.2.5)\n",
            "Requirement already satisfied: numpy>=1.9.1 in /usr/local/lib/python3.6/dist-packages (from keras) (1.17.4)\n",
            "Requirement already satisfied: scipy>=0.14 in /usr/local/lib/python3.6/dist-packages (from keras) (1.3.3)\n",
            "Requirement already satisfied: pyyaml in /usr/local/lib/python3.6/dist-packages (from keras) (3.13)\n",
            "Requirement already satisfied: keras-preprocessing>=1.1.0 in /usr/local/lib/python3.6/dist-packages (from keras) (1.1.0)\n",
            "Requirement already satisfied: keras-applications>=1.0.8 in /usr/local/lib/python3.6/dist-packages (from keras) (1.0.8)\n",
            "Requirement already satisfied: h5py in /usr/local/lib/python3.6/dist-packages (from keras) (2.8.0)\n",
            "Requirement already satisfied: six>=1.9.0 in /usr/local/lib/python3.6/dist-packages (from keras) (1.12.0)\n"
          ],
          "name": "stdout"
        }
      ]
    },
    {
      "cell_type": "code",
      "metadata": {
        "id": "HGD_V5WTL6sZ",
        "colab_type": "code",
        "outputId": "f456e398-86e8-45fc-e526-f71b36e66097",
        "colab": {
          "base_uri": "https://localhost:8080/",
          "height": 87
        }
      },
      "source": [
        "!pip install imageio"
      ],
      "execution_count": 0,
      "outputs": [
        {
          "output_type": "stream",
          "text": [
            "Requirement already satisfied: imageio in /usr/local/lib/python3.6/dist-packages (2.4.1)\n",
            "Requirement already satisfied: numpy in /usr/local/lib/python3.6/dist-packages (from imageio) (1.17.4)\n",
            "Requirement already satisfied: pillow in /usr/local/lib/python3.6/dist-packages (from imageio) (4.3.0)\n",
            "Requirement already satisfied: olefile in /usr/local/lib/python3.6/dist-packages (from pillow->imageio) (0.46)\n"
          ],
          "name": "stdout"
        }
      ]
    },
    {
      "cell_type": "code",
      "metadata": {
        "id": "kH2Y-2hUL6sf",
        "colab_type": "code",
        "outputId": "510c4ba9-60ff-4415-c7e1-73062d575476",
        "colab": {
          "base_uri": "https://localhost:8080/",
          "height": 315
        }
      },
      "source": [
        "pip install scikit-image"
      ],
      "execution_count": 0,
      "outputs": [
        {
          "output_type": "stream",
          "text": [
            "Requirement already satisfied: scikit-image in /usr/local/lib/python3.6/dist-packages (0.15.0)\n",
            "Requirement already satisfied: networkx>=2.0 in /usr/local/lib/python3.6/dist-packages (from scikit-image) (2.4)\n",
            "Requirement already satisfied: matplotlib!=3.0.0,>=2.0.0 in /usr/local/lib/python3.6/dist-packages (from scikit-image) (3.1.2)\n",
            "Requirement already satisfied: scipy>=0.17.0 in /usr/local/lib/python3.6/dist-packages (from scikit-image) (1.3.3)\n",
            "Requirement already satisfied: PyWavelets>=0.4.0 in /usr/local/lib/python3.6/dist-packages (from scikit-image) (1.1.1)\n",
            "Requirement already satisfied: imageio>=2.0.1 in /usr/local/lib/python3.6/dist-packages (from scikit-image) (2.4.1)\n",
            "Requirement already satisfied: pillow>=4.3.0 in /usr/local/lib/python3.6/dist-packages (from scikit-image) (4.3.0)\n",
            "Requirement already satisfied: decorator>=4.3.0 in /usr/local/lib/python3.6/dist-packages (from networkx>=2.0->scikit-image) (4.4.1)\n",
            "Requirement already satisfied: pyparsing!=2.0.4,!=2.1.2,!=2.1.6,>=2.0.1 in /usr/local/lib/python3.6/dist-packages (from matplotlib!=3.0.0,>=2.0.0->scikit-image) (2.4.5)\n",
            "Requirement already satisfied: python-dateutil>=2.1 in /usr/local/lib/python3.6/dist-packages (from matplotlib!=3.0.0,>=2.0.0->scikit-image) (2.6.1)\n",
            "Requirement already satisfied: kiwisolver>=1.0.1 in /usr/local/lib/python3.6/dist-packages (from matplotlib!=3.0.0,>=2.0.0->scikit-image) (1.1.0)\n",
            "Requirement already satisfied: numpy>=1.11 in /usr/local/lib/python3.6/dist-packages (from matplotlib!=3.0.0,>=2.0.0->scikit-image) (1.17.4)\n",
            "Requirement already satisfied: cycler>=0.10 in /usr/local/lib/python3.6/dist-packages (from matplotlib!=3.0.0,>=2.0.0->scikit-image) (0.10.0)\n",
            "Requirement already satisfied: olefile in /usr/local/lib/python3.6/dist-packages (from pillow>=4.3.0->scikit-image) (0.46)\n",
            "Requirement already satisfied: six>=1.5 in /usr/local/lib/python3.6/dist-packages (from python-dateutil>=2.1->matplotlib!=3.0.0,>=2.0.0->scikit-image) (1.12.0)\n",
            "Requirement already satisfied: setuptools in /usr/local/lib/python3.6/dist-packages (from kiwisolver>=1.0.1->matplotlib!=3.0.0,>=2.0.0->scikit-image) (42.0.2)\n"
          ],
          "name": "stdout"
        }
      ]
    },
    {
      "cell_type": "code",
      "metadata": {
        "id": "evmDo4lEL6si",
        "colab_type": "code",
        "outputId": "7e182afa-7145-4432-987a-7f323c144406",
        "colab": {
          "base_uri": "https://localhost:8080/",
          "height": 349
        }
      },
      "source": [
        "pip install git+https://www.github.com/keras-team/keras-contrib.git"
      ],
      "execution_count": 0,
      "outputs": [
        {
          "output_type": "stream",
          "text": [
            "Collecting git+https://www.github.com/keras-team/keras-contrib.git\n",
            "  Cloning https://www.github.com/keras-team/keras-contrib.git to /tmp/pip-req-build-55zbrljj\n",
            "  Running command git clone -q https://www.github.com/keras-team/keras-contrib.git /tmp/pip-req-build-55zbrljj\n",
            "Requirement already satisfied: keras in /usr/local/lib/python3.6/dist-packages (from keras-contrib==2.0.8) (2.2.5)\n",
            "Requirement already satisfied: keras-preprocessing>=1.1.0 in /usr/local/lib/python3.6/dist-packages (from keras->keras-contrib==2.0.8) (1.1.0)\n",
            "Requirement already satisfied: pyyaml in /usr/local/lib/python3.6/dist-packages (from keras->keras-contrib==2.0.8) (3.13)\n",
            "Requirement already satisfied: scipy>=0.14 in /usr/local/lib/python3.6/dist-packages (from keras->keras-contrib==2.0.8) (1.3.3)\n",
            "Requirement already satisfied: h5py in /usr/local/lib/python3.6/dist-packages (from keras->keras-contrib==2.0.8) (2.8.0)\n",
            "Requirement already satisfied: numpy>=1.9.1 in /usr/local/lib/python3.6/dist-packages (from keras->keras-contrib==2.0.8) (1.17.4)\n",
            "Requirement already satisfied: keras-applications>=1.0.8 in /usr/local/lib/python3.6/dist-packages (from keras->keras-contrib==2.0.8) (1.0.8)\n",
            "Requirement already satisfied: six>=1.9.0 in /usr/local/lib/python3.6/dist-packages (from keras->keras-contrib==2.0.8) (1.12.0)\n",
            "Building wheels for collected packages: keras-contrib\n",
            "  Building wheel for keras-contrib (setup.py) ... \u001b[?25l\u001b[?25hdone\n",
            "  Created wheel for keras-contrib: filename=keras_contrib-2.0.8-cp36-none-any.whl size=101065 sha256=2db8987c09f9c4d913e2ffc8e91455905ec92581f7157a008096c23c5109b069\n",
            "  Stored in directory: /tmp/pip-ephem-wheel-cache-teolhvuh/wheels/11/27/c8/4ed56de7b55f4f61244e2dc6ef3cdbaff2692527a2ce6502ba\n",
            "Successfully built keras-contrib\n",
            "Installing collected packages: keras-contrib\n",
            "Successfully installed keras-contrib-2.0.8\n"
          ],
          "name": "stdout"
        }
      ]
    },
    {
      "cell_type": "markdown",
      "metadata": {
        "id": "70ivFjysL6sn",
        "colab_type": "text"
      },
      "source": [
        "Arrange data"
      ]
    },
    {
      "cell_type": "code",
      "metadata": {
        "id": "MylXMrwfL6sp",
        "colab_type": "code",
        "colab": {}
      },
      "source": [
        "!gunzip UTKFace.tar.gz\n",
        "!tar -xf UTKFace.tar"
      ],
      "execution_count": 0,
      "outputs": []
    },
    {
      "cell_type": "code",
      "metadata": {
        "id": "yJPg5-F9L6sv",
        "colab_type": "code",
        "colab": {}
      },
      "source": [
        "!mkdir data\n",
        "!mkdir data/trainA data/trainB "
      ],
      "execution_count": 0,
      "outputs": []
    },
    {
      "cell_type": "code",
      "metadata": {
        "id": "EUosNM-SL6s0",
        "colab_type": "code",
        "outputId": "8e32186e-27e6-46c1-b961-8c023ef28ff1",
        "colab": {
          "base_uri": "https://localhost:8080/",
          "height": 69
        }
      },
      "source": [
        "import os, shutil\n",
        "images = os.listdir(\"UTKFace\")\n",
        "for f in images:\n",
        "  try:\n",
        "    val = f.split(\"_\")\n",
        "    age = int(val[0])\n",
        "    race = int(val[2])\n",
        "    if(age >=20 and age<=30):\n",
        "      shutil.copy(\"UTKFace/\"+f, \"data/trainA\")\n",
        "    if(age >=50 and age<=60):\n",
        "      shutil.copy(\"UTKFace/\"+f, \"data/trainB\")   \n",
        "  except:\n",
        "    print(f)"
      ],
      "execution_count": 0,
      "outputs": [
        {
          "output_type": "stream",
          "text": [
            "61_1_20170109150557335.jpg.chip.jpg\n",
            "61_1_20170109142408075.jpg.chip.jpg\n",
            "39_1_20170116174525125.jpg.chip.jpg\n"
          ],
          "name": "stdout"
        }
      ]
    },
    {
      "cell_type": "markdown",
      "metadata": {
        "id": "_kaDdigyL6s3",
        "colab_type": "text"
      },
      "source": [
        "Dataloader and preprocessing for input images"
      ]
    },
    {
      "cell_type": "code",
      "metadata": {
        "id": "1BJOKj9gL6s4",
        "colab_type": "code",
        "colab": {}
      },
      "source": [
        "import scipy\n",
        "from glob import glob\n",
        "import numpy as np\n",
        "from skimage.transform import resize\n",
        "import imageio\n",
        "\n",
        "class DataLoader():\n",
        "    def __init__(self, dataset_name, img_res=(128, 128)):\n",
        "        self.dataset_name = dataset_name\n",
        "        self.img_res = img_res\n",
        "\n",
        "    def load_data(self, domain, batch_size=1, is_testing=False):\n",
        "        path = glob('./%s/%s%s/*' % (self.dataset_name, \"train\", domain))\n",
        "        #data_type = \"train%s\" % domain if not is_testing else \"test%s\" % domain\n",
        "        \n",
        "        \n",
        "        batch_images = np.random.choice(path, size=batch_size)\n",
        "        imgs = []\n",
        "        print(domain, batch_images)\n",
        "        for img_path in batch_images:\n",
        "            img = self.imread(img_path)\n",
        "            if not is_testing:\n",
        "                img = resize(img, self.img_res)\n",
        "\n",
        "                if np.random.random() > 0.5:\n",
        "                    img = np.fliplr(img)\n",
        "            else:\n",
        "                img = resize(img, self.img_res)\n",
        "            imgs.append(img)\n",
        "\n",
        "        imgs = np.array(imgs)/127.5 - 1.\n",
        "\n",
        "        return imgs\n",
        "\n",
        "    def load_batch(self, batch_size=1, is_testing=False):\n",
        "        path_A = glob('./%s/%sA/*' % (self.dataset_name, \"train\"))\n",
        "        path_B = glob('./%s/%sB/*' % (self.dataset_name, \"train\"))\n",
        "        print(len(path_A), len(path_B))\n",
        "        self.n_batches = int(min(len(path_A), len(path_B)) / batch_size)      \n",
        "        total_samples = self.n_batches * batch_size\n",
        "\n",
        "        # Sample n_batches * batch_size from each path list so that model sees all\n",
        "        # samples from both domains\n",
        "        path_A = np.random.choice(path_A, total_samples, replace=False)\n",
        "        path_B = np.random.choice(path_B, total_samples, replace=False)\n",
        "\n",
        "        for i in range(self.n_batches-1):\n",
        "            batch_A = path_A[i*batch_size:(i+1)*batch_size]\n",
        "            batch_B = path_B[i*batch_size:(i+1)*batch_size]\n",
        "            imgs_A, imgs_B = [], []\n",
        "            for img_A, img_B in zip(batch_A, batch_B):            \n",
        "                img_A = self.imread(img_A)\n",
        "                img_B = self.imread(img_B)\n",
        "\n",
        "                img_A = resize(img_A, self.img_res)\n",
        "                img_B = resize(img_B, self.img_res)\n",
        "\n",
        "                if not is_testing and np.random.random() > 0.5:\n",
        "                        img_A = np.fliplr(img_A)\n",
        "                        img_B = np.fliplr(img_B)\n",
        "\n",
        "                imgs_A.append(img_A)\n",
        "                imgs_B.append(img_B)\n",
        "\n",
        "            imgs_A = np.array(imgs_A)/127.5 - 1.\n",
        "            imgs_B = np.array(imgs_B)/127.5 - 1.\n",
        "\n",
        "            yield imgs_A, imgs_B\n",
        "\n",
        "    def load_img(self, path):\n",
        "        img = self.imread(path)\n",
        "        img = resize(img, self.img_res)\n",
        "        img = img/127.5 - 1.\n",
        "        return img[np.newaxis, :, :, :]\n",
        "      \n",
        "    def get_img(self, img):\n",
        "        img = resize(img, self.img_res)\n",
        "        img = img/127.5 - 1.\n",
        "        return img\n",
        "      \n",
        "    def revert_img(self, img, new_res):\n",
        "      img = resize(img, new_res)\n",
        "      img = (img)*0.5 + 0.5\n",
        "      img = img*255\n",
        "      img = img.astype(np.float32)\n",
        "      return img \n",
        "\n",
        "    def imread(self, path):\n",
        "        return imageio.imread(path, as_gray=False, pilmode=\"RGB\").astype(np.float)\n",
        "      \n",
        "def revert_img(img, new_res):\n",
        "  img = (img)*0.5 + 0.5\n",
        "  img = img*255\n",
        "  img = resize(img, new_res)\n",
        "  img = img.astype(np.float32)\n",
        "  return img"
      ],
      "execution_count": 0,
      "outputs": []
    },
    {
      "cell_type": "markdown",
      "metadata": {
        "id": "G0a3FVVNL6s7",
        "colab_type": "text"
      },
      "source": [
        "CycleGan code\n",
        "Follow the tricks mentioned in the article"
      ]
    },
    {
      "cell_type": "code",
      "metadata": {
        "id": "Kv7Y7zIZL6s-",
        "colab_type": "code",
        "outputId": "2b488152-90e3-4a8f-917d-657402e37bf9",
        "colab": {
          "base_uri": "https://localhost:8080/",
          "height": 1000
        }
      },
      "source": [
        "from __future__ import print_function, division\n",
        "import scipy, os\n",
        "import scipy.misc\n",
        "\n",
        "from keras.datasets import mnist\n",
        "from keras_contrib.layers.normalization.instancenormalization import InstanceNormalization\n",
        "from keras.layers import Input, Dense, Reshape, Flatten, Dropout, Concatenate\n",
        "from keras.layers import BatchNormalization, Activation, ZeroPadding2D\n",
        "from keras.layers.advanced_activations import LeakyReLU\n",
        "from keras.activations import relu \n",
        "from keras.layers.convolutional import UpSampling2D, Conv2D, Conv2DTranspose\n",
        "from keras.models import Sequential, Model\n",
        "from keras.optimizers import Adam\n",
        "import datetime\n",
        "import matplotlib.pyplot as plt\n",
        "import sys\n",
        "import numpy as np\n",
        "import os\n",
        "import keras\n",
        "import shutil, os, random\n",
        "from keras.models import load_model\n",
        "\n",
        "class CycleGAN():\n",
        "    def __init__(self):\n",
        "        # Input shape\n",
        "        self.img_rows = 96\n",
        "        self.img_cols = 96\n",
        "        self.channels = 3\n",
        "        self.img_shape = (self.img_rows, self.img_cols, self.channels)  \n",
        "\n",
        "        # Configure data loader\n",
        "        self.dataset_name = 'data'\n",
        "        self.data_loader = DataLoader(dataset_name=self.dataset_name,\n",
        "                                      img_res=(self.img_rows, self.img_cols))\n",
        "\n",
        "\n",
        "        # Calculate output shape of D (PatchGAN)\n",
        "        patch = int(self.img_rows / 2**4)\n",
        "        self.disc_patch = (patch, patch, 1)\n",
        "\n",
        "        # Number of filters in the first layer of G and D\n",
        "        self.gf = 64\n",
        "        self.df = 64\n",
        "\n",
        "        # Loss weights\n",
        "        self.lambda_cycle = 0.1                   # Cycle-consistency loss\n",
        "        self.lambda_id = 0.1 * self.lambda_cycle    # Identity loss\n",
        "\n",
        "        optimizer = Adam(0.0002, 0.5)\n",
        "        pdir = \"/content/drive/My Drive/keras_combined_gan/\"\n",
        "        # Build and compile the discriminators\n",
        "        self.d_A = self.build_discriminator()\n",
        "        self.d_A.compile(loss='mse',\n",
        "          optimizer=optimizer,\n",
        "          metrics=['accuracy'])\n",
        "                \n",
        "        \n",
        "        self.d_B = self.build_discriminator()\n",
        "        self.d_B.compile(loss='mse',\n",
        "          optimizer=optimizer,\n",
        "          metrics=['accuracy'])\n",
        "        \n",
        "\n",
        "        #-------------------------\n",
        "        # Construct Computational\n",
        "        #   Graph of Generators\n",
        "        #-------------------------\n",
        "\n",
        "        # Build the generators\n",
        "        self.g_AB = self.build_generator()\n",
        "        self.g_BA = self.build_generator()\n",
        "\n",
        "        # Input images from both domains\n",
        "        img_A = Input(shape=self.img_shape)\n",
        "        img_B = Input(shape=self.img_shape)\n",
        "\n",
        "        # Translate images to the other domain\n",
        "        fake_B = self.g_AB(img_A)\n",
        "        fake_A = self.g_BA(img_B)\n",
        "        # Translate images back to original domain\n",
        "        reconstr_A = self.g_BA(fake_B)\n",
        "        reconstr_B = self.g_AB(fake_A)\n",
        "        # Identity mapping of images\n",
        "        img_A_id = self.g_BA(img_A)\n",
        "        img_B_id = self.g_AB(img_B)\n",
        "\n",
        "        # For the combined model we will only train the generators ??\n",
        "        self.d_A.trainable = False\n",
        "        self.d_B.trainable = False        \n",
        "\n",
        "        # Discriminators determines validity of translated images\n",
        "        valid_A = self.d_A(fake_A)\n",
        "        valid_B = self.d_B(fake_B)    \n",
        "\n",
        "        # Combined model trains generators to fool discriminators\n",
        "        self.combined = Model(inputs=[img_A, img_B],\n",
        "                                outputs=[ valid_A, valid_B,\n",
        "                                        reconstr_A, reconstr_B,\n",
        "                                        img_A_id, img_B_id ])\n",
        "        self.combined.compile(loss=['mse', 'mse',\n",
        "                                    'mae', 'mae',\n",
        "                                  'mae', 'mae'],\n",
        "                            loss_weights=[  1, 1,\n",
        "                                          self.lambda_cycle, self.lambda_cycle,\n",
        "                                          self.lambda_id, self.lambda_id ],\n",
        "                            optimizer=optimizer)\n",
        "\n",
        "    def build_generator(self):\n",
        "        \"\"\"Resnet Generator\"\"\"\n",
        "\n",
        "        def conv2d(layer_input, filters=16, strides=1, name=None, f_size=4):\n",
        "            d = Conv2D(filters, kernel_size=f_size, strides=strides, padding='same', name=name)(layer_input)\n",
        "            d = InstanceNormalization(name=name+\"_bn\")(d)\n",
        "            d = Activation('relu')(d)\n",
        "            return d\n",
        "          \n",
        "        def residual(layer_input, filters=16, strides=1, name=None, f_size=3):\n",
        "            d = conv2d(layer_input, filters=filters, strides=strides, name=name, f_size=f_size)\n",
        "            d = Conv2D(filters, kernel_size=f_size, strides=strides, padding='same', name=name+\"_2\")(d)\n",
        "            d = InstanceNormalization(name=name+\"_bn2\")(d)\n",
        "            d = keras.layers.add([d, layer_input])\n",
        "            return d\n",
        "\n",
        "        def conv2d_transpose(layer_input, filters=16, strides=1, name=None, f_size=4):\n",
        "            u = Conv2DTranspose(filters, strides=strides, name=name, kernel_size=f_size, padding='same')(layer_input)\n",
        "            u = InstanceNormalization(name=name+\"_bn\")(u)\n",
        "            u = Activation('relu')(u)\n",
        "            return u\n",
        "\n",
        "        # Image input\n",
        "        c0 = Input(shape=self.img_shape)\n",
        "        c1 = conv2d(c0, filters=self.gf, strides=1, name=\"g_e1\", f_size=7)\n",
        "        c2 = conv2d(c1, filters=self.gf*2, strides=2, name=\"g_e2\", f_size=3)\n",
        "        c3 = conv2d(c2, filters=self.gf*4, strides=2, name=\"g_e3\", f_size=3)\n",
        "        \n",
        "        r1 = residual(c3, filters=self.gf*4, name='g_r1')\n",
        "        r2 = residual(r1, self.gf*4, name='g_r2')\n",
        "        r3 = residual(r2, self.gf*4, name='g_r3')\n",
        "        r4 = residual(r3, self.gf*4, name='g_r4')\n",
        "        r5 = residual(r4, self.gf*4, name='g_r5')\n",
        "        r6 = residual(r5, self.gf*4, name='g_r6')\n",
        "        r7 = residual(r6, self.gf*4, name='g_r7')\n",
        "        r8 = residual(r7, self.gf*4, name='g_r8')\n",
        "        r9 = residual(r8, self.gf*4, name='g_r9')\n",
        "        \n",
        "        d1 = conv2d_transpose(r9, filters=self.gf*2, f_size=3, strides=2, name='g_d1_dc')\n",
        "        d2 = conv2d_transpose(d1, filters=self.gf, f_size=3, strides=2, name='g_d2_dc')\n",
        "        \n",
        "        output_img = Conv2D(self.channels, kernel_size=7, strides=1, padding='same', activation='tanh')(d2)\n",
        "\n",
        "        return Model(inputs=[c0], outputs=[output_img])\n",
        "\n",
        "    def build_discriminator(self):\n",
        "\n",
        "        def d_layer(layer_input, filters, f_size=4, normalization=True):\n",
        "            \"\"\"Discriminator layer\"\"\"\n",
        "            d = Conv2D(filters, kernel_size=f_size, strides=2, padding='same')(layer_input)\n",
        "            d = LeakyReLU(alpha=0.2)(d)\n",
        "            if normalization:\n",
        "                d = InstanceNormalization()(d)\n",
        "            return d\n",
        "\n",
        "        img = Input(shape=self.img_shape)\n",
        "\n",
        "        d1 = d_layer(img, self.df, normalization=False)\n",
        "        d2 = d_layer(d1, self.df*2)\n",
        "        d3 = d_layer(d2, self.df*4)\n",
        "        d4 = d_layer(d3, self.df*8)\n",
        "\n",
        "        validity = Conv2D(1, kernel_size=4, strides=1, padding='same')(d4)\n",
        "\n",
        "        return Model(img, validity)\n",
        "\n",
        "    def train(self, epochs, batch_size=1, sample_interval=50):\n",
        "\n",
        "        start_time = datetime.datetime.now()\n",
        "\n",
        "        # Adversarial loss ground truths\n",
        "        valid = np.ones((batch_size,) + self.disc_patch)\n",
        "        fake = np.zeros((batch_size,) + self.disc_patch)\n",
        "        for epoch in range(epochs):\n",
        "            for batch_i, (imgs_A, imgs_B) in enumerate(self.data_loader.load_batch(batch_size)):\n",
        "\n",
        "                # ----------------------\n",
        "                #  Train Discriminators\n",
        "                # ----------------------\n",
        "\n",
        "                # Translate images to opposite domain     \n",
        "                fake_B = self.g_AB.predict([imgs_A])\n",
        "                fake_A = self.g_BA.predict([imgs_B])\n",
        "\n",
        "                # Train the discriminators (original images = real / translated = Fake)\n",
        "                dA_loss_real = self.d_A.train_on_batch(imgs_A, valid)\n",
        "                dA_loss_fake = self.d_A.train_on_batch(fake_A, fake)               \n",
        "                dA_loss = 0.5 * np.add(dA_loss_real, dA_loss_fake)\n",
        "\n",
        "                dB_loss_real = self.d_B.train_on_batch(imgs_B, valid)                \n",
        "                dB_loss_fake = self.d_B.train_on_batch(fake_B, fake)                \n",
        "                dB_loss = 0.5 * np.add(dB_loss_real, dB_loss_fake)\n",
        "\n",
        "                # Total disciminator loss\n",
        "                d_loss = 0.5 * np.add(dA_loss, dB_loss)\n",
        "                \n",
        "                # ------------------\n",
        "                #  Train Generators\n",
        "                # ------------------\n",
        "\n",
        "                # Train the generators\n",
        "                g_loss = self.combined.train_on_batch([imgs_A, imgs_B],\n",
        "                                                        [valid, valid,\n",
        "                                                        imgs_A, imgs_B,\n",
        "                                                        imgs_A, imgs_B])                                          \n",
        "                \n",
        "                elapsed_time = datetime.datetime.now() - start_time\n",
        "                if batch_i%50==0:\n",
        "                  # Plot the progress\n",
        "                  print (\"[Age Epoch %d/%d] [Batch %d/%d] [D loss: %f, acc: %3d%%] [G loss: %05f, adv: %05f, recon: %05f, id: %05f]  time: %s \" \\\n",
        "                                                                          % ( epoch, epochs,\n",
        "                                                                              batch_i, self.data_loader.n_batches,\n",
        "                                                                              d_loss[0], 100*d_loss[1],\n",
        "                                                                              g_loss[0],\n",
        "                                                                              np.mean(g_loss[1:3]),\n",
        "                                                                              np.mean(g_loss[3:5]),\n",
        "                                                                              np.mean(g_loss[5:6]),\n",
        "                                                                              elapsed_time))  \n",
        "                  \n",
        "                                                                              \n",
        "                # If at save interval => save generated image samples\n",
        "                if batch_i % sample_interval == 0:\n",
        "                    self.sample_images(epoch, batch_i)    \n",
        "                  \n",
        "            \n",
        "    def sample_images(self, epoch, batch_i):\n",
        "        os.makedirs('images/%s' % self.dataset_name, exist_ok=True)\n",
        "        r, c = 2, 3\n",
        "        imgs_A = self.data_loader.load_data(domain=\"A\", batch_size=1, is_testing=False)\n",
        "        imgs_B = self.data_loader.load_data(domain=\"B\", batch_size=1, is_testing=False)\n",
        "\n",
        "        # Translate images to the other domain\n",
        "        fake_B = self.g_AB.predict([imgs_A])\n",
        "        fake_A = self.g_BA.predict([imgs_B])\n",
        "        # Translate back to original domain\n",
        "        reconstr_A = self.g_BA.predict([fake_B])\n",
        "        reconstr_B = self.g_AB.predict([fake_A])\n",
        "\n",
        "        gen_imgs = np.concatenate([imgs_A, fake_B, reconstr_A, imgs_B, fake_A, reconstr_B])\n",
        "\n",
        "        # Rescale images 0 - 1\n",
        "        gen_imgs = 0.5 * gen_imgs + 0.5\n",
        "\n",
        "        titles = ['Original', 'Translated', 'Reconstructed']\n",
        "        fig, axs = plt.subplots(r, c)\n",
        "        cnt = 0\n",
        "        for i in range(r):\n",
        "            for j in range(c):\n",
        "                axs[i,j].imshow(gen_imgs[cnt])\n",
        "                axs[i, j].set_title(titles[j])\n",
        "                axs[i,j].axis('off')\n",
        "                cnt += 1\n",
        "        fig.savefig(\"images/%s/%d_%d.png\" % (self.dataset_name, epoch, batch_i))\n",
        "        plt.close()\n",
        "        \n",
        "    def run_20_to_50(self, image):\n",
        "        imgs_A = self.data_loader.load_data(domain=\"A\", batch_size=1, is_testing=True)        \n",
        "        fake_B = self.g_AB.predict(imgs_A)\n",
        "\n",
        "gan = CycleGAN()\n",
        "gan.train(epochs=50, batch_size=32, sample_interval=20)"
      ],
      "execution_count": 0,
      "outputs": [
        {
          "output_type": "stream",
          "text": [
            "Using TensorFlow backend.\n"
          ],
          "name": "stderr"
        },
        {
          "output_type": "display_data",
          "data": {
            "text/html": [
              "<p style=\"color: red;\">\n",
              "The default version of TensorFlow in Colab will soon switch to TensorFlow 2.x.<br>\n",
              "We recommend you <a href=\"https://www.tensorflow.org/guide/migrate\" target=\"_blank\">upgrade</a> now \n",
              "or ensure your notebook will continue to use TensorFlow 1.x via the <code>%tensorflow_version 1.x</code> magic:\n",
              "<a href=\"https://colab.research.google.com/notebooks/tensorflow_version.ipynb\" target=\"_blank\">more info</a>.</p>\n"
            ],
            "text/plain": [
              "<IPython.core.display.HTML object>"
            ]
          },
          "metadata": {
            "tags": []
          }
        },
        {
          "output_type": "stream",
          "text": [
            "WARNING:tensorflow:From /usr/local/lib/python3.6/dist-packages/keras/backend/tensorflow_backend.py:66: The name tf.get_default_graph is deprecated. Please use tf.compat.v1.get_default_graph instead.\n",
            "\n",
            "WARNING:tensorflow:From /usr/local/lib/python3.6/dist-packages/keras/backend/tensorflow_backend.py:541: The name tf.placeholder is deprecated. Please use tf.compat.v1.placeholder instead.\n",
            "\n",
            "WARNING:tensorflow:From /usr/local/lib/python3.6/dist-packages/keras/backend/tensorflow_backend.py:4432: The name tf.random_uniform is deprecated. Please use tf.random.uniform instead.\n",
            "\n",
            "WARNING:tensorflow:From /usr/local/lib/python3.6/dist-packages/keras/optimizers.py:793: The name tf.train.Optimizer is deprecated. Please use tf.compat.v1.train.Optimizer instead.\n",
            "\n",
            "8068 2592\n",
            "WARNING:tensorflow:From /usr/local/lib/python3.6/dist-packages/keras/backend/tensorflow_backend.py:3005: The name tf.Session is deprecated. Please use tf.compat.v1.Session instead.\n",
            "\n",
            "WARNING:tensorflow:From /usr/local/lib/python3.6/dist-packages/keras/backend/tensorflow_backend.py:190: The name tf.get_default_session is deprecated. Please use tf.compat.v1.get_default_session instead.\n",
            "\n",
            "WARNING:tensorflow:From /usr/local/lib/python3.6/dist-packages/keras/backend/tensorflow_backend.py:197: The name tf.ConfigProto is deprecated. Please use tf.compat.v1.ConfigProto instead.\n",
            "\n",
            "WARNING:tensorflow:From /usr/local/lib/python3.6/dist-packages/keras/backend/tensorflow_backend.py:207: The name tf.global_variables is deprecated. Please use tf.compat.v1.global_variables instead.\n",
            "\n",
            "WARNING:tensorflow:From /usr/local/lib/python3.6/dist-packages/keras/backend/tensorflow_backend.py:216: The name tf.is_variable_initialized is deprecated. Please use tf.compat.v1.is_variable_initialized instead.\n",
            "\n",
            "WARNING:tensorflow:From /usr/local/lib/python3.6/dist-packages/keras/backend/tensorflow_backend.py:223: The name tf.variables_initializer is deprecated. Please use tf.compat.v1.variables_initializer instead.\n",
            "\n"
          ],
          "name": "stdout"
        },
        {
          "output_type": "stream",
          "text": [
            "/usr/local/lib/python3.6/dist-packages/keras/engine/training.py:493: UserWarning: Discrepancy between trainable weights and collected trainable weights, did you set `model.trainable` without calling `model.compile` after ?\n",
            "  'Discrepancy between trainable weights and collected trainable'\n"
          ],
          "name": "stderr"
        },
        {
          "output_type": "stream",
          "text": [
            "WARNING:tensorflow:From /usr/local/lib/python3.6/dist-packages/keras/backend/tensorflow_backend.py:1033: The name tf.assign_add is deprecated. Please use tf.compat.v1.assign_add instead.\n",
            "\n",
            "WARNING:tensorflow:From /usr/local/lib/python3.6/dist-packages/keras/backend/tensorflow_backend.py:1020: The name tf.assign is deprecated. Please use tf.compat.v1.assign instead.\n",
            "\n"
          ],
          "name": "stdout"
        },
        {
          "output_type": "stream",
          "text": [
            "/usr/local/lib/python3.6/dist-packages/keras/engine/training.py:493: UserWarning: Discrepancy between trainable weights and collected trainable weights, did you set `model.trainable` without calling `model.compile` after ?\n",
            "  'Discrepancy between trainable weights and collected trainable'\n",
            "/usr/local/lib/python3.6/dist-packages/keras/engine/training.py:493: UserWarning: Discrepancy between trainable weights and collected trainable weights, did you set `model.trainable` without calling `model.compile` after ?\n",
            "  'Discrepancy between trainable weights and collected trainable'\n"
          ],
          "name": "stderr"
        },
        {
          "output_type": "stream",
          "text": [
            "[Age Epoch 0/50] [Batch 0/81] [D loss: 9.327892, acc:   8%] [G loss: 321.182678, adv: 160.518646, recon: 0.662777, id: 0.684633]  time: 0:01:31.292899 \n",
            "A ['./data/trainA/25_1_0_20170117152143899.jpg.chip.jpg']\n",
            "B ['./data/trainB/54_1_0_20170117171505517.jpg.chip.jpg']\n"
          ],
          "name": "stdout"
        },
        {
          "output_type": "stream",
          "text": [
            "/usr/local/lib/python3.6/dist-packages/keras/engine/training.py:493: UserWarning: Discrepancy between trainable weights and collected trainable weights, did you set `model.trainable` without calling `model.compile` after ?\n",
            "  'Discrepancy between trainable weights and collected trainable'\n"
          ],
          "name": "stderr"
        },
        {
          "output_type": "stream",
          "text": [
            "A ['./data/trainA/25_1_4_20170103233749355.jpg.chip.jpg']\n",
            "B ['./data/trainB/52_0_3_20170119204337838.jpg.chip.jpg']\n",
            "A ['./data/trainA/26_1_4_20170117174327119.jpg.chip.jpg']\n",
            "B ['./data/trainB/52_0_0_20170113184840654.jpg.chip.jpg']\n",
            "[Age Epoch 0/50] [Batch 50/81] [D loss: 0.175675, acc:  77%] [G loss: 1.960967, adv: 0.916237, recon: 0.586102, id: 0.521748]  time: 0:03:07.890389 \n",
            "A ['./data/trainA/24_1_2_20170116174520246.jpg.chip.jpg']\n",
            "B ['./data/trainB/50_0_0_20170117160624326.jpg.chip.jpg']\n",
            "8068 2592\n",
            "[Age Epoch 1/50] [Batch 0/81] [D loss: 0.288738, acc:  63%] [G loss: 1.985492, adv: 0.934945, recon: 0.517535, id: 0.576587]  time: 0:04:05.560318 \n",
            "A ['./data/trainA/27_1_1_20170109131744869.jpg.chip.jpg']\n",
            "B ['./data/trainB/60_1_3_20170109141933202.jpg.chip.jpg']\n",
            "A ['./data/trainA/26_0_1_20170117091506354.jpg.chip.jpg']\n",
            "B ['./data/trainB/52_1_0_20170110151342799.jpg.chip.jpg']\n",
            "A ['./data/trainA/24_1_2_20170116173414881.jpg.chip.jpg']\n",
            "B ['./data/trainB/52_1_0_20170104183913011.jpg.chip.jpg']\n",
            "[Age Epoch 1/50] [Batch 50/81] [D loss: 0.367779, acc:  52%] [G loss: 1.613312, adv: 0.736578, recon: 0.646969, id: 0.685567]  time: 0:05:41.884077 \n",
            "A ['./data/trainA/26_0_1_20170116010315712.jpg.chip.jpg']\n",
            "B ['./data/trainB/58_1_0_20170110140856753.jpg.chip.jpg']\n",
            "8068 2592\n",
            "[Age Epoch 2/50] [Batch 0/81] [D loss: 0.480668, acc:  28%] [G loss: 2.226951, adv: 1.059608, recon: 0.494249, id: 0.440692]  time: 0:06:39.479470 \n",
            "A ['./data/trainA/28_0_1_20170113155441306.jpg.chip.jpg']\n",
            "B ['./data/trainB/52_0_0_20170111205535761.jpg.chip.jpg']\n",
            "A ['./data/trainA/29_0_0_20170116192401102.jpg.chip.jpg']\n",
            "B ['./data/trainB/50_0_0_20170117190559865.jpg.chip.jpg']\n",
            "A ['./data/trainA/23_1_4_20170117194315659.jpg.chip.jpg']\n",
            "B ['./data/trainB/52_0_3_20170119205639336.jpg.chip.jpg']\n",
            "[Age Epoch 2/50] [Batch 50/81] [D loss: 0.398950, acc:  36%] [G loss: 2.454527, adv: 1.176693, recon: 0.465757, id: 0.457290]  time: 0:08:15.817473 \n",
            "A ['./data/trainA/26_1_2_20170116184043483.jpg.chip.jpg']\n",
            "B ['./data/trainB/54_0_0_20170105173633085.jpg.chip.jpg']\n",
            "8068 2592\n",
            "[Age Epoch 3/50] [Batch 0/81] [D loss: 0.476992, acc:  31%] [G loss: 2.005285, adv: 0.958800, recon: 0.400757, id: 0.357983]  time: 0:09:13.645266 \n",
            "A ['./data/trainA/27_1_0_20170117175947237.jpg.chip.jpg']\n",
            "B ['./data/trainB/56_0_0_20170116183723573.jpg.chip.jpg']\n",
            "A ['./data/trainA/24_1_0_20170111182452781.jpg.chip.jpg']\n",
            "B ['./data/trainB/50_0_0_20170117135537508.jpg.chip.jpg']\n",
            "A ['./data/trainA/28_0_1_20170116203937699.jpg.chip.jpg']\n",
            "B ['./data/trainB/60_0_0_20170120225049193.jpg.chip.jpg']\n",
            "[Age Epoch 3/50] [Batch 50/81] [D loss: 0.406033, acc:  38%] [G loss: 1.544955, adv: 0.728940, recon: 0.398615, id: 0.353522]  time: 0:10:50.199536 \n",
            "A ['./data/trainA/26_1_0_20170116234828566.jpg.chip.jpg']\n",
            "B ['./data/trainB/53_0_0_20170104184411830.jpg.chip.jpg']\n",
            "8068 2592\n",
            "[Age Epoch 4/50] [Batch 0/81] [D loss: 0.314502, acc:  42%] [G loss: 1.235700, adv: 0.573869, recon: 0.403293, id: 0.416923]  time: 0:11:47.982711 \n",
            "A ['./data/trainA/26_1_1_20170116231937264.jpg.chip.jpg']\n",
            "B ['./data/trainB/58_1_0_20170109015222209.jpg.chip.jpg']\n",
            "A ['./data/trainA/26_0_3_20170119181430244.jpg.chip.jpg']\n",
            "B ['./data/trainB/60_1_0_20170110152225746.jpg.chip.jpg']\n",
            "A ['./data/trainA/23_1_2_20170116173124400.jpg.chip.jpg']\n",
            "B ['./data/trainB/56_0_0_20170111171747454.jpg.chip.jpg']\n",
            "[Age Epoch 4/50] [Batch 50/81] [D loss: 0.310115, acc:  40%] [G loss: 1.014966, adv: 0.474489, recon: 0.301798, id: 0.310771]  time: 0:13:24.541425 \n",
            "A ['./data/trainA/22_1_2_20170116172726806.jpg.chip.jpg']\n",
            "B ['./data/trainB/53_1_0_20170117191020179.jpg.chip.jpg']\n",
            "8068 2592\n",
            "[Age Epoch 5/50] [Batch 0/81] [D loss: 0.314244, acc:  35%] [G loss: 0.936069, adv: 0.434746, recon: 0.304983, id: 0.313801]  time: 0:14:22.212009 \n",
            "A ['./data/trainA/29_1_1_20170103181030152.jpg.chip.jpg']\n",
            "B ['./data/trainB/56_1_0_20170117171814213.jpg.chip.jpg']\n",
            "A ['./data/trainA/20_1_4_20170103233322026.jpg.chip.jpg']\n",
            "B ['./data/trainB/55_0_3_20170119171327855.jpg.chip.jpg']\n",
            "A ['./data/trainA/27_1_3_20170117180032189.jpg.chip.jpg']\n",
            "B ['./data/trainB/50_1_1_20170120222821475.jpg.chip.jpg']\n",
            "[Age Epoch 5/50] [Batch 50/81] [D loss: 0.303772, acc:  34%] [G loss: 1.051738, adv: 0.491166, recon: 0.317022, id: 0.266290]  time: 0:15:58.614368 \n",
            "A ['./data/trainA/26_1_3_20170119193141890.jpg.chip.jpg']\n",
            "B ['./data/trainB/54_0_1_20170117190137490.jpg.chip.jpg']\n",
            "8068 2592\n",
            "[Age Epoch 6/50] [Batch 0/81] [D loss: 0.285696, acc:  43%] [G loss: 0.882465, adv: 0.409622, recon: 0.289365, id: 0.315479]  time: 0:16:56.334768 \n",
            "A ['./data/trainA/29_1_0_20170103183548206.jpg.chip.jpg']\n",
            "B ['./data/trainB/51_0_1_20170113142122196.jpg.chip.jpg']\n",
            "A ['./data/trainA/20_0_0_20170117134042772.jpg.chip.jpg']\n",
            "B ['./data/trainB/60_1_1_20170112210519379.jpg.chip.jpg']\n",
            "A ['./data/trainA/26_1_1_20170116155801198.jpg.chip.jpg']\n",
            "B ['./data/trainB/58_1_0_20170105173601797.jpg.chip.jpg']\n",
            "[Age Epoch 6/50] [Batch 50/81] [D loss: 0.312114, acc:  32%] [G loss: 0.737051, adv: 0.341984, recon: 0.242332, id: 0.264354]  time: 0:18:32.863419 \n",
            "A ['./data/trainA/26_1_2_20170116162412165.jpg.chip.jpg']\n",
            "B ['./data/trainB/54_0_3_20170119210131208.jpg.chip.jpg']\n",
            "8068 2592\n",
            "[Age Epoch 7/50] [Batch 0/81] [D loss: 0.275631, acc:  44%] [G loss: 0.848718, adv: 0.389088, recon: 0.323357, id: 0.266669]  time: 0:19:30.629721 \n",
            "A ['./data/trainA/28_1_1_20170117020401850.jpg.chip.jpg']\n",
            "B ['./data/trainB/55_0_3_20170119204811925.jpg.chip.jpg']\n",
            "A ['./data/trainA/26_0_4_20170117195502469.jpg.chip.jpg']\n",
            "B ['./data/trainB/50_0_3_20170119205527856.jpg.chip.jpg']\n",
            "A ['./data/trainA/23_1_0_20170116221811019.jpg.chip.jpg']\n",
            "B ['./data/trainB/50_0_3_20170119205527856.jpg.chip.jpg']\n",
            "[Age Epoch 7/50] [Batch 50/81] [D loss: 0.299829, acc:  32%] [G loss: 0.700895, adv: 0.323300, recon: 0.247021, id: 0.261237]  time: 0:21:07.056286 \n",
            "A ['./data/trainA/27_1_3_20170119155424633.jpg.chip.jpg']\n",
            "B ['./data/trainB/54_0_3_20170119210121447.jpg.chip.jpg']\n",
            "8068 2592\n",
            "[Age Epoch 8/50] [Batch 0/81] [D loss: 0.285902, acc:  35%] [G loss: 0.733742, adv: 0.340336, recon: 0.241635, id: 0.252712]  time: 0:22:04.770887 \n",
            "A ['./data/trainA/30_0_2_20170117181310236.jpg.chip.jpg']\n",
            "B ['./data/trainB/50_0_0_20170117190559865.jpg.chip.jpg']\n",
            "A ['./data/trainA/26_0_2_20170104015801932.jpg.chip.jpg']\n",
            "B ['./data/trainB/53_0_0_20170113184718824.jpg.chip.jpg']\n",
            "A ['./data/trainA/26_0_0_20170102233359482.jpg.chip.jpg']\n",
            "B ['./data/trainB/53_0_0_20170111201131358.jpg.chip.jpg']\n",
            "[Age Epoch 8/50] [Batch 50/81] [D loss: 0.301179, acc:  28%] [G loss: 0.759457, adv: 0.347428, recon: 0.291892, id: 0.325555]  time: 0:23:41.174607 \n",
            "A ['./data/trainA/26_1_1_20170116162258869.jpg.chip.jpg']\n",
            "B ['./data/trainB/58_0_1_20170113185227312.jpg.chip.jpg']\n",
            "8068 2592\n",
            "[Age Epoch 9/50] [Batch 0/81] [D loss: 0.284488, acc:  32%] [G loss: 0.663762, adv: 0.309605, recon: 0.203645, id: 0.193410]  time: 0:24:38.929095 \n",
            "A ['./data/trainA/24_0_1_20170113134107281.jpg.chip.jpg']\n",
            "B ['./data/trainB/60_1_0_20170110152954671.jpg.chip.jpg']\n",
            "A ['./data/trainA/29_0_0_20170116205219294.jpg.chip.jpg']\n",
            "B ['./data/trainB/60_0_3_20170117175443809.jpg.chip.jpg']\n",
            "A ['./data/trainA/26_1_2_20170116180008794.jpg.chip.jpg']\n",
            "B ['./data/trainB/60_0_0_20170117160451902.jpg.chip.jpg']\n",
            "[Age Epoch 9/50] [Batch 50/81] [D loss: 0.282613, acc:  31%] [G loss: 0.687220, adv: 0.320535, recon: 0.207206, id: 0.255940]  time: 0:26:15.508220 \n",
            "A ['./data/trainA/30_1_3_20170119144121804.jpg.chip.jpg']\n",
            "B ['./data/trainB/50_1_0_20170116223837168.jpg.chip.jpg']\n",
            "8068 2592\n",
            "[Age Epoch 10/50] [Batch 0/81] [D loss: 0.283818, acc:  29%] [G loss: 0.655809, adv: 0.307132, recon: 0.188812, id: 0.184124]  time: 0:27:13.158765 \n",
            "A ['./data/trainA/30_0_0_20170116183741574.jpg.chip.jpg']\n",
            "B ['./data/trainB/60_1_0_20170110154145935.jpg.chip.jpg']\n",
            "A ['./data/trainA/27_1_2_20170116163705155.jpg.chip.jpg']\n",
            "B ['./data/trainB/54_0_2_20170117171429994.jpg.chip.jpg']\n",
            "A ['./data/trainA/22_1_3_20170104223452679.jpg.chip.jpg']\n",
            "B ['./data/trainB/50_0_1_20170117173418899.jpg.chip.jpg']\n",
            "[Age Epoch 10/50] [Batch 50/81] [D loss: 0.281825, acc:  27%] [G loss: 0.633783, adv: 0.296686, recon: 0.183846, id: 0.179766]  time: 0:28:49.669224 \n",
            "A ['./data/trainA/28_1_0_20170117122005148.jpg.chip.jpg']\n",
            "B ['./data/trainB/51_0_1_20170117173507025.jpg.chip.jpg']\n",
            "8068 2592\n",
            "[Age Epoch 11/50] [Batch 0/81] [D loss: 0.283910, acc:  27%] [G loss: 0.681355, adv: 0.318215, recon: 0.201436, id: 0.227407]  time: 0:29:47.372695 \n",
            "A ['./data/trainA/23_0_2_20170116221009406.jpg.chip.jpg']\n",
            "B ['./data/trainB/56_1_0_20170120140341104.jpg.chip.jpg']\n"
          ],
          "name": "stdout"
        }
      ]
    },
    {
      "cell_type": "markdown",
      "metadata": {
        "id": "0L0X8aDAL6tn",
        "colab_type": "text"
      },
      "source": [
        "Face Detection"
      ]
    },
    {
      "cell_type": "code",
      "metadata": {
        "id": "86WqP9NLL6to",
        "colab_type": "code",
        "colab": {}
      },
      "source": [
        "!wget https://github.com/spmallick/learnopencv/raw/master/FaceDetectionComparison/models/opencv_face_detector_uint8.pb\n",
        "!wget https://raw.githubusercontent.com/opencv/opencv_extra/master/testdata/dnn/opencv_face_detector.pbtxt"
      ],
      "execution_count": 0,
      "outputs": []
    },
    {
      "cell_type": "code",
      "metadata": {
        "id": "4EDqZeEXL6tt",
        "colab_type": "code",
        "colab": {}
      },
      "source": [
        "!wget https://statics.sportskeeda.com/editor/2018/09/4c606-1536825356-800.jpg \n",
        "!mv 4c606-1536825356-800.jpg big3.jpg"
      ],
      "execution_count": 0,
      "outputs": []
    },
    {
      "cell_type": "code",
      "metadata": {
        "id": "KRY5G-0PL6t3",
        "colab_type": "code",
        "colab": {}
      },
      "source": [
        "import cv2\n",
        "%matplotlib inline \n",
        "from matplotlib import pyplot as plt\n",
        "from PIL import Image\n",
        "def detectFaceOpenCVDnn(net, frame):\n",
        "    frameOpencvDnn = frame.copy()\n",
        "    frameHeight = frameOpencvDnn.shape[0]\n",
        "    frameWidth = frameOpencvDnn.shape[1]\n",
        "    blob = cv2.dnn.blobFromImage(frameOpencvDnn, 1.0, (frameHeight, frameWidth), [104, 117, 123], False, False)\n",
        "\n",
        "    net.setInput(blob)\n",
        "    detections = net.forward()\n",
        "    bboxes = []\n",
        "    for i in range(detections.shape[2]):\n",
        "        confidence = detections[0, 0, i, 2]\n",
        "        if confidence > conf_threshold:\n",
        "            x1 = int(detections[0, 0, i, 3] * frameWidth)\n",
        "            y1 = int(detections[0, 0, i, 4] * frameHeight)\n",
        "            x2 = int(detections[0, 0, i, 5] * frameWidth)\n",
        "            y2 = int(detections[0, 0, i, 6] * frameHeight)\n",
        "            bboxes.append([x1, y1, x2, y2])\n",
        "            if not(x1<30 or y1<30 or x2>frameWidth-30 or y2>frameHeight-30):\n",
        "              y1, y2 = y1-20, y2+20\n",
        "              x1, x2 = x1-20, x2+20\n",
        "            else:\n",
        "              continue\n",
        "            crop_img = frameOpencvDnn[y1:y2, x1:x2]\n",
        "            crop_img = cv2.cvtColor(crop_img, cv2.COLOR_BGR2RGB).astype(\"float32\")\n",
        "            cv2.imwrite(\"cropped\"+str(i)+\".jpg\", crop_img)\n",
        "            inp = np.array([gan.data_loader.get_img(crop_img)])\n",
        "            old_img = gan.g_AB.predict([inp])\n",
        "            new_img = revert_img(old_img[0], (y2-y1, x2-x1))\n",
        "            new_img = cv2.cvtColor(new_img, cv2.COLOR_RGB2BGR).astype(\"float32\")\n",
        "            frameOpencvDnn[y1:y2, x1:x2] = new_img\n",
        "            scipy.misc.imsave(\"old\"+str(i)+\".jpg\", new_img)\n",
        "    return frameOpencvDnn, bboxes\n",
        "  \n",
        "conf_threshold = 0.8\n",
        "modelFile = \"opencv_face_detector_uint8.pb\"\n",
        "configFile = \"opencv_face_detector.pbtxt\"\n",
        "net = cv2.dnn.readNetFromTensorflow(modelFile, configFile)\n",
        "frame = cv2.imread(\"big3.jpg\")\n",
        "outOpencvDnn, bboxes = detectFaceOpenCVDnn(net,frame)\n",
        "cv2.imwrite(\"big3_old.jpg\", outOpencvDnn)\n",
        "outOpencvDnn, bboxes = detectFaceOpenCVDnn(net,frame)\n",
        "cv2.imwrite(\"big3_black.jpg\", outOpencvDnn)"
      ],
      "execution_count": 0,
      "outputs": []
    },
    {
      "cell_type": "code",
      "metadata": {
        "id": "uAkPXun9L6uB",
        "colab_type": "code",
        "colab": {}
      },
      "source": [
        ""
      ],
      "execution_count": 0,
      "outputs": []
    }
  ]
}